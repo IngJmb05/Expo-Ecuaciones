{
  "cells": [
    {
      "cell_type": "markdown",
      "metadata": {
        "id": "view-in-github",
        "colab_type": "text"
      },
      "source": [
        "<a href=\"https://colab.research.google.com/github/IngJmb05/Expo-Ecuaciones/blob/main/C%C3%B3digo_del_horno.ipynb\" target=\"_parent\"><img src=\"https://colab.research.google.com/assets/colab-badge.svg\" alt=\"Open In Colab\"/></a>"
      ]
    },
    {
      "cell_type": "markdown",
      "source": [
        "# 1. Código del Horno"
      ],
      "metadata": {
        "id": "h_ft7c9Nw_jR"
      }
    },
    {
      "cell_type": "code",
      "source": [
        "import numpy as np\n",
        "import matplotlib.pyplot as plt\n",
        "\n",
        "#---------------Parámetros que el usuario va a ingresar---------------#\n",
        "#definimos las variables que seran dadas por el ususario\n",
        "\n",
        "  #Ingresa la temperatura a la que el horno estara\n",
        "T_ambiente = float(input(\"Ingrese la temperatura del horno (°C): \"))\n",
        "\n",
        "  #Ingresa la temperatura a la que el alimento se encuentra al empezar la cocción\n",
        "T_inicial = float(input(\"Ingrese la temperatura inicial del alimento (°C): \"))\n",
        "\n",
        "  #Ingresa la temperatura que desea que alcance el alimento\n",
        "T_deseada = float(input(\"Ingrese la temperatura interna deseada del alimento (°C): \"))\n",
        "\n",
        "# Constante de transferencia de calor\n",
        "k = 0.1\n",
        "\n",
        "# Definimos el tiempo\n",
        "tiempo = np.linspace(0, 60, 500)  # 60 minutos en 500 puntos\n",
        "\n",
        "# Ecuación de temperatura en el tiempo\n",
        "T = T_ambiente - (T_ambiente - T_inicial) * np.exp(-k * tiempo)\n",
        "\n",
        "# Calcula el tiempo aproximado en que la temperatura del alimento es la deseada\n",
        "tiempo_calentamiento = tiempo[np.argmax(T >= T_deseada)]\n",
        "\n",
        "# Gráfico\n",
        "plt.plot(tiempo, T, label=\"Temperatura del alimento\")\n",
        "plt.axhline(T_deseada, color='r', linestyle=\"--\", label=\"Temperatura deseada\")\n",
        "plt.axvline(tiempo_calentamiento, color='g', linestyle=\"--\", label=f\"Tiempo de calentamiento ~ {tiempo_calentamiento:.1f} min\")\n",
        "plt.xlabel(\"Tiempo (minutos)\")\n",
        "plt.ylabel(\"Temperatura (°C)\")\n",
        "plt.title(\"Cambio de temperatura en el horno\")\n",
        "plt.legend()\n",
        "plt.grid(True)\n",
        "plt.show()\n",
        "\n",
        "print(f\"Tiempo aproximado para alcanzar la temperatura deseada: {tiempo_calentamiento:.1f} minutos\")\n",
        "\n",
        "\n",
        "\n",
        "\n"
      ],
      "metadata": {
        "id": "X2eywXGUxPox"
      },
      "execution_count": null,
      "outputs": []
    }
  ],
  "metadata": {
    "colab": {
      "name": "Te damos la bienvenida a Colaboratory",
      "toc_visible": true,
      "provenance": [],
      "include_colab_link": true
    },
    "kernelspec": {
      "display_name": "Python 3",
      "name": "python3"
    }
  },
  "nbformat": 4,
  "nbformat_minor": 0
}